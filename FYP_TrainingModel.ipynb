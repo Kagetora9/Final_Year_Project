{
  "cells": [
    {
      "cell_type": "code",
      "execution_count": 2,
      "metadata": {
        "colab": {
          "base_uri": "https://localhost:8080/"
        },
        "id": "F0aGu9F1cOGw",
        "outputId": "9af5a77b-0119-4325-a7b4-eab696a306dc"
      },
      "outputs": [
        {
          "output_type": "stream",
          "name": "stdout",
          "text": [
            "Requirement already satisfied: networkx in /usr/local/lib/python3.10/dist-packages (3.2.1)\n",
            "Requirement already satisfied: torch in /usr/local/lib/python3.10/dist-packages (2.2.1+cu121)\n",
            "Requirement already satisfied: torchvision in /usr/local/lib/python3.10/dist-packages (0.17.1+cu121)\n",
            "Requirement already satisfied: torchaudio in /usr/local/lib/python3.10/dist-packages (2.2.1+cu121)\n",
            "Requirement already satisfied: filelock in /usr/local/lib/python3.10/dist-packages (from torch) (3.13.1)\n",
            "Requirement already satisfied: typing-extensions>=4.8.0 in /usr/local/lib/python3.10/dist-packages (from torch) (4.10.0)\n",
            "Requirement already satisfied: sympy in /usr/local/lib/python3.10/dist-packages (from torch) (1.12)\n",
            "Requirement already satisfied: networkx in /usr/local/lib/python3.10/dist-packages (from torch) (3.2.1)\n",
            "Requirement already satisfied: jinja2 in /usr/local/lib/python3.10/dist-packages (from torch) (3.1.3)\n",
            "Requirement already satisfied: fsspec in /usr/local/lib/python3.10/dist-packages (from torch) (2023.6.0)\n",
            "Collecting nvidia-cuda-nvrtc-cu12==12.1.105 (from torch)\n",
            "  Downloading nvidia_cuda_nvrtc_cu12-12.1.105-py3-none-manylinux1_x86_64.whl (23.7 MB)\n",
            "\u001b[2K     \u001b[90m━━━━━━━━━━━━━━━━━━━━━━━━━━━━━━━━━━━━━━━━\u001b[0m \u001b[32m23.7/23.7 MB\u001b[0m \u001b[31m35.8 MB/s\u001b[0m eta \u001b[36m0:00:00\u001b[0m\n",
            "\u001b[?25hCollecting nvidia-cuda-runtime-cu12==12.1.105 (from torch)\n",
            "  Downloading nvidia_cuda_runtime_cu12-12.1.105-py3-none-manylinux1_x86_64.whl (823 kB)\n",
            "\u001b[2K     \u001b[90m━━━━━━━━━━━━━━━━━━━━━━━━━━━━━━━━━━━━━━━━\u001b[0m \u001b[32m823.6/823.6 kB\u001b[0m \u001b[31m48.4 MB/s\u001b[0m eta \u001b[36m0:00:00\u001b[0m\n",
            "\u001b[?25hCollecting nvidia-cuda-cupti-cu12==12.1.105 (from torch)\n",
            "  Downloading nvidia_cuda_cupti_cu12-12.1.105-py3-none-manylinux1_x86_64.whl (14.1 MB)\n",
            "\u001b[2K     \u001b[90m━━━━━━━━━━━━━━━━━━━━━━━━━━━━━━━━━━━━━━━━\u001b[0m \u001b[32m14.1/14.1 MB\u001b[0m \u001b[31m59.7 MB/s\u001b[0m eta \u001b[36m0:00:00\u001b[0m\n",
            "\u001b[?25hCollecting nvidia-cudnn-cu12==8.9.2.26 (from torch)\n",
            "  Downloading nvidia_cudnn_cu12-8.9.2.26-py3-none-manylinux1_x86_64.whl (731.7 MB)\n",
            "\u001b[2K     \u001b[90m━━━━━━━━━━━━━━━━━━━━━━━━━━━━━━━━━━━━━━━━\u001b[0m \u001b[32m731.7/731.7 MB\u001b[0m \u001b[31m1.1 MB/s\u001b[0m eta \u001b[36m0:00:00\u001b[0m\n",
            "\u001b[?25hCollecting nvidia-cublas-cu12==12.1.3.1 (from torch)\n",
            "  Downloading nvidia_cublas_cu12-12.1.3.1-py3-none-manylinux1_x86_64.whl (410.6 MB)\n",
            "\u001b[2K     \u001b[90m━━━━━━━━━━━━━━━━━━━━━━━━━━━━━━━━━━━━━━━━\u001b[0m \u001b[32m410.6/410.6 MB\u001b[0m \u001b[31m2.5 MB/s\u001b[0m eta \u001b[36m0:00:00\u001b[0m\n",
            "\u001b[?25hCollecting nvidia-cufft-cu12==11.0.2.54 (from torch)\n",
            "  Downloading nvidia_cufft_cu12-11.0.2.54-py3-none-manylinux1_x86_64.whl (121.6 MB)\n",
            "\u001b[2K     \u001b[90m━━━━━━━━━━━━━━━━━━━━━━━━━━━━━━━━━━━━━━━━\u001b[0m \u001b[32m121.6/121.6 MB\u001b[0m \u001b[31m8.5 MB/s\u001b[0m eta \u001b[36m0:00:00\u001b[0m\n",
            "\u001b[?25hCollecting nvidia-curand-cu12==10.3.2.106 (from torch)\n",
            "  Downloading nvidia_curand_cu12-10.3.2.106-py3-none-manylinux1_x86_64.whl (56.5 MB)\n",
            "\u001b[2K     \u001b[90m━━━━━━━━━━━━━━━━━━━━━━━━━━━━━━━━━━━━━━━━\u001b[0m \u001b[32m56.5/56.5 MB\u001b[0m \u001b[31m13.5 MB/s\u001b[0m eta \u001b[36m0:00:00\u001b[0m\n",
            "\u001b[?25hCollecting nvidia-cusolver-cu12==11.4.5.107 (from torch)\n",
            "  Downloading nvidia_cusolver_cu12-11.4.5.107-py3-none-manylinux1_x86_64.whl (124.2 MB)\n",
            "\u001b[2K     \u001b[90m━━━━━━━━━━━━━━━━━━━━━━━━━━━━━━━━━━━━━━━━\u001b[0m \u001b[32m124.2/124.2 MB\u001b[0m \u001b[31m6.3 MB/s\u001b[0m eta \u001b[36m0:00:00\u001b[0m\n",
            "\u001b[?25hCollecting nvidia-cusparse-cu12==12.1.0.106 (from torch)\n",
            "  Downloading nvidia_cusparse_cu12-12.1.0.106-py3-none-manylinux1_x86_64.whl (196.0 MB)\n",
            "\u001b[2K     \u001b[90m━━━━━━━━━━━━━━━━━━━━━━━━━━━━━━━━━━━━━━━━\u001b[0m \u001b[32m196.0/196.0 MB\u001b[0m \u001b[31m3.0 MB/s\u001b[0m eta \u001b[36m0:00:00\u001b[0m\n",
            "\u001b[?25hCollecting nvidia-nccl-cu12==2.19.3 (from torch)\n",
            "  Downloading nvidia_nccl_cu12-2.19.3-py3-none-manylinux1_x86_64.whl (166.0 MB)\n",
            "\u001b[2K     \u001b[90m━━━━━━━━━━━━━━━━━━━━━━━━━━━━━━━━━━━━━━━━\u001b[0m \u001b[32m166.0/166.0 MB\u001b[0m \u001b[31m7.1 MB/s\u001b[0m eta \u001b[36m0:00:00\u001b[0m\n",
            "\u001b[?25hCollecting nvidia-nvtx-cu12==12.1.105 (from torch)\n",
            "  Downloading nvidia_nvtx_cu12-12.1.105-py3-none-manylinux1_x86_64.whl (99 kB)\n",
            "\u001b[2K     \u001b[90m━━━━━━━━━━━━━━━━━━━━━━━━━━━━━━━━━━━━━━━━\u001b[0m \u001b[32m99.1/99.1 kB\u001b[0m \u001b[31m9.6 MB/s\u001b[0m eta \u001b[36m0:00:00\u001b[0m\n",
            "\u001b[?25hRequirement already satisfied: triton==2.2.0 in /usr/local/lib/python3.10/dist-packages (from torch) (2.2.0)\n",
            "Collecting nvidia-nvjitlink-cu12 (from nvidia-cusolver-cu12==11.4.5.107->torch)\n",
            "  Downloading nvidia_nvjitlink_cu12-12.4.99-py3-none-manylinux2014_x86_64.whl (21.1 MB)\n",
            "\u001b[2K     \u001b[90m━━━━━━━━━━━━━━━━━━━━━━━━━━━━━━━━━━━━━━━━\u001b[0m \u001b[32m21.1/21.1 MB\u001b[0m \u001b[31m52.3 MB/s\u001b[0m eta \u001b[36m0:00:00\u001b[0m\n",
            "\u001b[?25hRequirement already satisfied: numpy in /usr/local/lib/python3.10/dist-packages (from torchvision) (1.25.2)\n",
            "Requirement already satisfied: pillow!=8.3.*,>=5.3.0 in /usr/local/lib/python3.10/dist-packages (from torchvision) (9.4.0)\n",
            "Requirement already satisfied: MarkupSafe>=2.0 in /usr/local/lib/python3.10/dist-packages (from jinja2->torch) (2.1.5)\n",
            "Requirement already satisfied: mpmath>=0.19 in /usr/local/lib/python3.10/dist-packages (from sympy->torch) (1.3.0)\n",
            "Installing collected packages: nvidia-nvtx-cu12, nvidia-nvjitlink-cu12, nvidia-nccl-cu12, nvidia-curand-cu12, nvidia-cufft-cu12, nvidia-cuda-runtime-cu12, nvidia-cuda-nvrtc-cu12, nvidia-cuda-cupti-cu12, nvidia-cublas-cu12, nvidia-cusparse-cu12, nvidia-cudnn-cu12, nvidia-cusolver-cu12\n",
            "Successfully installed nvidia-cublas-cu12-12.1.3.1 nvidia-cuda-cupti-cu12-12.1.105 nvidia-cuda-nvrtc-cu12-12.1.105 nvidia-cuda-runtime-cu12-12.1.105 nvidia-cudnn-cu12-8.9.2.26 nvidia-cufft-cu12-11.0.2.54 nvidia-curand-cu12-10.3.2.106 nvidia-cusolver-cu12-11.4.5.107 nvidia-cusparse-cu12-12.1.0.106 nvidia-nccl-cu12-2.19.3 nvidia-nvjitlink-cu12-12.4.99 nvidia-nvtx-cu12-12.1.105\n",
            "Collecting torch-scatter\n",
            "  Downloading torch_scatter-2.1.2.tar.gz (108 kB)\n",
            "\u001b[2K     \u001b[90m━━━━━━━━━━━━━━━━━━━━━━━━━━━━━━━━━━━━━━━━\u001b[0m \u001b[32m108.0/108.0 kB\u001b[0m \u001b[31m2.7 MB/s\u001b[0m eta \u001b[36m0:00:00\u001b[0m\n",
            "\u001b[?25h  Preparing metadata (setup.py) ... \u001b[?25l\u001b[?25hdone\n",
            "Collecting torch-sparse\n",
            "  Downloading torch_sparse-0.6.18.tar.gz (209 kB)\n",
            "\u001b[2K     \u001b[90m━━━━━━━━━━━━━━━━━━━━━━━━━━━━━━━━━━━━━━━━\u001b[0m \u001b[32m210.0/210.0 kB\u001b[0m \u001b[31m11.6 MB/s\u001b[0m eta \u001b[36m0:00:00\u001b[0m\n",
            "\u001b[?25h  Preparing metadata (setup.py) ... \u001b[?25l\u001b[?25hdone\n",
            "Collecting torch-cluster\n",
            "  Downloading torch_cluster-1.6.3.tar.gz (54 kB)\n",
            "\u001b[2K     \u001b[90m━━━━━━━━━━━━━━━━━━━━━━━━━━━━━━━━━━━━━━━━\u001b[0m \u001b[32m54.5/54.5 kB\u001b[0m \u001b[31m6.4 MB/s\u001b[0m eta \u001b[36m0:00:00\u001b[0m\n",
            "\u001b[?25h  Preparing metadata (setup.py) ... \u001b[?25l\u001b[?25hdone\n",
            "Collecting torch-spline-conv\n",
            "  Downloading torch_spline_conv-1.2.2.tar.gz (25 kB)\n",
            "  Preparing metadata (setup.py) ... \u001b[?25l\u001b[?25hdone\n",
            "Collecting torch-geometric\n",
            "  Downloading torch_geometric-2.5.2-py3-none-any.whl (1.1 MB)\n",
            "\u001b[2K     \u001b[90m━━━━━━━━━━━━━━━━━━━━━━━━━━━━━━━━━━━━━━━━\u001b[0m \u001b[32m1.1/1.1 MB\u001b[0m \u001b[31m30.7 MB/s\u001b[0m eta \u001b[36m0:00:00\u001b[0m\n",
            "\u001b[?25hRequirement already satisfied: scipy in /usr/local/lib/python3.10/dist-packages (from torch-sparse) (1.11.4)\n",
            "Requirement already satisfied: tqdm in /usr/local/lib/python3.10/dist-packages (from torch-geometric) (4.66.2)\n",
            "Requirement already satisfied: numpy in /usr/local/lib/python3.10/dist-packages (from torch-geometric) (1.25.2)\n",
            "Requirement already satisfied: fsspec in /usr/local/lib/python3.10/dist-packages (from torch-geometric) (2023.6.0)\n",
            "Requirement already satisfied: jinja2 in /usr/local/lib/python3.10/dist-packages (from torch-geometric) (3.1.3)\n",
            "Requirement already satisfied: aiohttp in /usr/local/lib/python3.10/dist-packages (from torch-geometric) (3.9.3)\n",
            "Requirement already satisfied: requests in /usr/local/lib/python3.10/dist-packages (from torch-geometric) (2.31.0)\n",
            "Requirement already satisfied: pyparsing in /usr/local/lib/python3.10/dist-packages (from torch-geometric) (3.1.2)\n",
            "Requirement already satisfied: scikit-learn in /usr/local/lib/python3.10/dist-packages (from torch-geometric) (1.2.2)\n",
            "Requirement already satisfied: psutil>=5.8.0 in /usr/local/lib/python3.10/dist-packages (from torch-geometric) (5.9.5)\n",
            "Requirement already satisfied: aiosignal>=1.1.2 in /usr/local/lib/python3.10/dist-packages (from aiohttp->torch-geometric) (1.3.1)\n",
            "Requirement already satisfied: attrs>=17.3.0 in /usr/local/lib/python3.10/dist-packages (from aiohttp->torch-geometric) (23.2.0)\n",
            "Requirement already satisfied: frozenlist>=1.1.1 in /usr/local/lib/python3.10/dist-packages (from aiohttp->torch-geometric) (1.4.1)\n",
            "Requirement already satisfied: multidict<7.0,>=4.5 in /usr/local/lib/python3.10/dist-packages (from aiohttp->torch-geometric) (6.0.5)\n",
            "Requirement already satisfied: yarl<2.0,>=1.0 in /usr/local/lib/python3.10/dist-packages (from aiohttp->torch-geometric) (1.9.4)\n",
            "Requirement already satisfied: async-timeout<5.0,>=4.0 in /usr/local/lib/python3.10/dist-packages (from aiohttp->torch-geometric) (4.0.3)\n",
            "Requirement already satisfied: MarkupSafe>=2.0 in /usr/local/lib/python3.10/dist-packages (from jinja2->torch-geometric) (2.1.5)\n",
            "Requirement already satisfied: charset-normalizer<4,>=2 in /usr/local/lib/python3.10/dist-packages (from requests->torch-geometric) (3.3.2)\n",
            "Requirement already satisfied: idna<4,>=2.5 in /usr/local/lib/python3.10/dist-packages (from requests->torch-geometric) (3.6)\n",
            "Requirement already satisfied: urllib3<3,>=1.21.1 in /usr/local/lib/python3.10/dist-packages (from requests->torch-geometric) (2.0.7)\n",
            "Requirement already satisfied: certifi>=2017.4.17 in /usr/local/lib/python3.10/dist-packages (from requests->torch-geometric) (2024.2.2)\n",
            "Requirement already satisfied: joblib>=1.1.1 in /usr/local/lib/python3.10/dist-packages (from scikit-learn->torch-geometric) (1.3.2)\n",
            "Requirement already satisfied: threadpoolctl>=2.0.0 in /usr/local/lib/python3.10/dist-packages (from scikit-learn->torch-geometric) (3.3.0)\n",
            "Building wheels for collected packages: torch-scatter, torch-sparse, torch-cluster, torch-spline-conv\n",
            "  Building wheel for torch-scatter (setup.py) ... \u001b[?25l\u001b[?25hdone\n",
            "  Created wheel for torch-scatter: filename=torch_scatter-2.1.2-cp310-cp310-linux_x86_64.whl size=504020 sha256=093930f3543559b4f546a3174ff2da34261ee56e3ac5e7ca5723f0d96801f833\n",
            "  Stored in directory: /root/.cache/pip/wheels/92/f1/2b/3b46d54b134259f58c8363568569053248040859b1a145b3ce\n",
            "  Building wheel for torch-sparse (setup.py) ... \u001b[?25l\u001b[?25hdone\n",
            "  Created wheel for torch-sparse: filename=torch_sparse-0.6.18-cp310-cp310-linux_x86_64.whl size=1071448 sha256=418e2ab58457be9d5fe9db718767ad0ec91637c791701d42191464a4e3ada330\n",
            "  Stored in directory: /root/.cache/pip/wheels/c9/dd/0f/a6a16f9f3b0236733d257b4b4ea91b548b984a341ed3b8f38c\n",
            "  Building wheel for torch-cluster (setup.py) ... \u001b[?25l\u001b[?25hdone\n",
            "  Created wheel for torch-cluster: filename=torch_cluster-1.6.3-cp310-cp310-linux_x86_64.whl size=714413 sha256=56311794444591de84318ff5ada1452f8f48014c5f62e8f6c5e987c8ec10cb6f\n",
            "  Stored in directory: /root/.cache/pip/wheels/51/78/c3/536637b3cdcc3313aa5e8851a6c72b97f6a01877e68c7595e3\n",
            "  Building wheel for torch-spline-conv (setup.py) ... \u001b[?25l\u001b[?25hdone\n",
            "  Created wheel for torch-spline-conv: filename=torch_spline_conv-1.2.2-cp310-cp310-linux_x86_64.whl size=205737 sha256=26038f7463f5cb5fbeeff638ef3978b3dfa915307220f48879e995e85b77e75d\n",
            "  Stored in directory: /root/.cache/pip/wheels/fc/34/be/187e4b5f5ccefecca2c1a5dfc8da244ec50baa1f33c7b8c9a1\n",
            "Successfully built torch-scatter torch-sparse torch-cluster torch-spline-conv\n",
            "Installing collected packages: torch-spline-conv, torch-scatter, torch-sparse, torch-cluster, torch-geometric\n",
            "Successfully installed torch-cluster-1.6.3 torch-geometric-2.5.2 torch-scatter-2.1.2 torch-sparse-0.6.18 torch-spline-conv-1.2.2\n"
          ]
        }
      ],
      "source": [
        "!pip install networkx\n",
        "!pip install torch torchvision torchaudio\n",
        "!pip install torch-scatter torch-sparse torch-cluster torch-spline-conv torch-geometric"
      ]
    },
    {
      "cell_type": "code",
      "source": [
        "import torch\n",
        "import torch.nn.functional as F\n",
        "from torch_geometric.datasets import Planetoid\n",
        "import torch_geometric.transforms as T\n",
        "from torch_geometric.nn import GCNConv\n",
        "\n",
        "# For DRL, assuming PyTorch is used\n",
        "import gym"
      ],
      "metadata": {
        "id": "uuQAnxV0aGpM"
      },
      "execution_count": 4,
      "outputs": []
    },
    {
      "cell_type": "code",
      "source": [
        "# Load the Cora dataset and apply normalization transformation\n",
        "coraDataset = Planetoid(root='/tmp/Cora', name='Cora', transform=T.NormalizeFeatures())\n",
        "\n",
        "cData = coraDataset[0]  # Get the first graph object from the dataset\n",
        "\n",
        "print(f'Number of classes: {coraDataset.num_classes}')\n",
        "print(f'Number of nodes: {cData.num_nodes}')\n",
        "print(f'Number of edges: {cData.num_edges}')\n",
        "print(f'Number of features per node: {cData.num_node_features}')"
      ],
      "metadata": {
        "colab": {
          "base_uri": "https://localhost:8080/"
        },
        "id": "jH7rqj4pdb3H",
        "outputId": "6d3c0980-23e8-4b62-dbb0-ea61380c0130"
      },
      "execution_count": 7,
      "outputs": [
        {
          "output_type": "stream",
          "name": "stdout",
          "text": [
            "Number of classes: 7\n",
            "Number of nodes: 2708\n",
            "Number of edges: 10556\n",
            "Number of features per node: 1433\n"
          ]
        }
      ]
    },
    {
      "cell_type": "code",
      "source": [
        "from google.colab import drive\n",
        "drive.mount('/content/drive')"
      ],
      "metadata": {
        "colab": {
          "base_uri": "https://localhost:8080/"
        },
        "id": "Zhg39soldmNZ",
        "outputId": "4bf5cbf5-b419-4395-d2d2-119debd37d6e"
      },
      "execution_count": 8,
      "outputs": [
        {
          "output_type": "stream",
          "name": "stdout",
          "text": [
            "Mounted at /content/drive\n"
          ]
        }
      ]
    },
    {
      "cell_type": "code",
      "execution_count": 9,
      "metadata": {
        "colab": {
          "base_uri": "https://localhost:8080/",
          "height": 519
        },
        "id": "Pf-fgrErmYp7",
        "outputId": "30271c9c-5dd7-4913-a47a-3af24426891c",
        "scrolled": true
      },
      "outputs": [
        {
          "output_type": "stream",
          "name": "stdout",
          "text": [
            "<class 'pandas.core.frame.DataFrame'>\n",
            "RangeIndex: 4999 entries, 0 to 4998\n",
            "Data columns (total 11 columns):\n",
            " #   Column              Non-Null Count  Dtype  \n",
            "---  ------              --------------  -----  \n",
            " 0   Timestamp           899 non-null    float64\n",
            " 1   SenderID            899 non-null    float64\n",
            " 2   ReceiverID          899 non-null    float64\n",
            " 3   Timestamp_Raw       899 non-null    float64\n",
            " 4   Pathloss            899 non-null    float64\n",
            " 5   PropDelay           899 non-null    float64\n",
            " 6   Distance            899 non-null    float64\n",
            " 7   Sender_XVelocity    899 non-null    float64\n",
            " 8   Sender_YVelocity    899 non-null    float64\n",
            " 9   Receiver_XVelocity  899 non-null    float64\n",
            " 10  Receiver_YVelocity  899 non-null    float64\n",
            "dtypes: float64(11)\n",
            "memory usage: 429.7 KB\n"
          ]
        },
        {
          "output_type": "execute_result",
          "data": {
            "text/plain": [
              "   Timestamp  SenderID  ReceiverID  Timestamp_Raw  Pathloss     PropDelay  \\\n",
              "0        0.0       4.0         1.0       0.135006     122.7  2.412000e-06   \n",
              "1        0.0       4.0         2.0       0.135006      77.4  1.076000e-06   \n",
              "2        0.0       4.0         3.0       0.135006      62.8  3.850000e-07   \n",
              "3        0.0       4.0         5.0       0.135006      69.3  6.670000e-07   \n",
              "4        0.0       4.0         6.0       0.135006      72.6  8.990000e-07   \n",
              "\n",
              "     Distance  Sender_XVelocity  Sender_YVelocity  Receiver_XVelocity  \\\n",
              "0  723.740931     -6.000000e-09     -9.000000e-10       -6.000000e-09   \n",
              "1  322.740648     -6.000000e-09     -9.000000e-10       -6.000000e-09   \n",
              "2  115.581421     -6.000000e-09     -9.000000e-10       -6.000000e-09   \n",
              "3  200.156166     -6.000000e-09     -9.000000e-10       -6.000000e-09   \n",
              "4  269.675504     -6.000000e-09     -9.000000e-10       -6.000000e-09   \n",
              "\n",
              "   Receiver_YVelocity  \n",
              "0       -9.000000e-10  \n",
              "1       -9.000000e-10  \n",
              "2       -9.000000e-10  \n",
              "3       -9.000000e-10  \n",
              "4       -9.000000e-10  "
            ],
            "text/html": [
              "\n",
              "  <div id=\"df-3682e311-2d7d-4a1c-ad33-e2666394eecf\" class=\"colab-df-container\">\n",
              "    <div>\n",
              "<style scoped>\n",
              "    .dataframe tbody tr th:only-of-type {\n",
              "        vertical-align: middle;\n",
              "    }\n",
              "\n",
              "    .dataframe tbody tr th {\n",
              "        vertical-align: top;\n",
              "    }\n",
              "\n",
              "    .dataframe thead th {\n",
              "        text-align: right;\n",
              "    }\n",
              "</style>\n",
              "<table border=\"1\" class=\"dataframe\">\n",
              "  <thead>\n",
              "    <tr style=\"text-align: right;\">\n",
              "      <th></th>\n",
              "      <th>Timestamp</th>\n",
              "      <th>SenderID</th>\n",
              "      <th>ReceiverID</th>\n",
              "      <th>Timestamp_Raw</th>\n",
              "      <th>Pathloss</th>\n",
              "      <th>PropDelay</th>\n",
              "      <th>Distance</th>\n",
              "      <th>Sender_XVelocity</th>\n",
              "      <th>Sender_YVelocity</th>\n",
              "      <th>Receiver_XVelocity</th>\n",
              "      <th>Receiver_YVelocity</th>\n",
              "    </tr>\n",
              "  </thead>\n",
              "  <tbody>\n",
              "    <tr>\n",
              "      <th>0</th>\n",
              "      <td>0.0</td>\n",
              "      <td>4.0</td>\n",
              "      <td>1.0</td>\n",
              "      <td>0.135006</td>\n",
              "      <td>122.7</td>\n",
              "      <td>2.412000e-06</td>\n",
              "      <td>723.740931</td>\n",
              "      <td>-6.000000e-09</td>\n",
              "      <td>-9.000000e-10</td>\n",
              "      <td>-6.000000e-09</td>\n",
              "      <td>-9.000000e-10</td>\n",
              "    </tr>\n",
              "    <tr>\n",
              "      <th>1</th>\n",
              "      <td>0.0</td>\n",
              "      <td>4.0</td>\n",
              "      <td>2.0</td>\n",
              "      <td>0.135006</td>\n",
              "      <td>77.4</td>\n",
              "      <td>1.076000e-06</td>\n",
              "      <td>322.740648</td>\n",
              "      <td>-6.000000e-09</td>\n",
              "      <td>-9.000000e-10</td>\n",
              "      <td>-6.000000e-09</td>\n",
              "      <td>-9.000000e-10</td>\n",
              "    </tr>\n",
              "    <tr>\n",
              "      <th>2</th>\n",
              "      <td>0.0</td>\n",
              "      <td>4.0</td>\n",
              "      <td>3.0</td>\n",
              "      <td>0.135006</td>\n",
              "      <td>62.8</td>\n",
              "      <td>3.850000e-07</td>\n",
              "      <td>115.581421</td>\n",
              "      <td>-6.000000e-09</td>\n",
              "      <td>-9.000000e-10</td>\n",
              "      <td>-6.000000e-09</td>\n",
              "      <td>-9.000000e-10</td>\n",
              "    </tr>\n",
              "    <tr>\n",
              "      <th>3</th>\n",
              "      <td>0.0</td>\n",
              "      <td>4.0</td>\n",
              "      <td>5.0</td>\n",
              "      <td>0.135006</td>\n",
              "      <td>69.3</td>\n",
              "      <td>6.670000e-07</td>\n",
              "      <td>200.156166</td>\n",
              "      <td>-6.000000e-09</td>\n",
              "      <td>-9.000000e-10</td>\n",
              "      <td>-6.000000e-09</td>\n",
              "      <td>-9.000000e-10</td>\n",
              "    </tr>\n",
              "    <tr>\n",
              "      <th>4</th>\n",
              "      <td>0.0</td>\n",
              "      <td>4.0</td>\n",
              "      <td>6.0</td>\n",
              "      <td>0.135006</td>\n",
              "      <td>72.6</td>\n",
              "      <td>8.990000e-07</td>\n",
              "      <td>269.675504</td>\n",
              "      <td>-6.000000e-09</td>\n",
              "      <td>-9.000000e-10</td>\n",
              "      <td>-6.000000e-09</td>\n",
              "      <td>-9.000000e-10</td>\n",
              "    </tr>\n",
              "  </tbody>\n",
              "</table>\n",
              "</div>\n",
              "    <div class=\"colab-df-buttons\">\n",
              "\n",
              "  <div class=\"colab-df-container\">\n",
              "    <button class=\"colab-df-convert\" onclick=\"convertToInteractive('df-3682e311-2d7d-4a1c-ad33-e2666394eecf')\"\n",
              "            title=\"Convert this dataframe to an interactive table.\"\n",
              "            style=\"display:none;\">\n",
              "\n",
              "  <svg xmlns=\"http://www.w3.org/2000/svg\" height=\"24px\" viewBox=\"0 -960 960 960\">\n",
              "    <path d=\"M120-120v-720h720v720H120Zm60-500h600v-160H180v160Zm220 220h160v-160H400v160Zm0 220h160v-160H400v160ZM180-400h160v-160H180v160Zm440 0h160v-160H620v160ZM180-180h160v-160H180v160Zm440 0h160v-160H620v160Z\"/>\n",
              "  </svg>\n",
              "    </button>\n",
              "\n",
              "  <style>\n",
              "    .colab-df-container {\n",
              "      display:flex;\n",
              "      gap: 12px;\n",
              "    }\n",
              "\n",
              "    .colab-df-convert {\n",
              "      background-color: #E8F0FE;\n",
              "      border: none;\n",
              "      border-radius: 50%;\n",
              "      cursor: pointer;\n",
              "      display: none;\n",
              "      fill: #1967D2;\n",
              "      height: 32px;\n",
              "      padding: 0 0 0 0;\n",
              "      width: 32px;\n",
              "    }\n",
              "\n",
              "    .colab-df-convert:hover {\n",
              "      background-color: #E2EBFA;\n",
              "      box-shadow: 0px 1px 2px rgba(60, 64, 67, 0.3), 0px 1px 3px 1px rgba(60, 64, 67, 0.15);\n",
              "      fill: #174EA6;\n",
              "    }\n",
              "\n",
              "    .colab-df-buttons div {\n",
              "      margin-bottom: 4px;\n",
              "    }\n",
              "\n",
              "    [theme=dark] .colab-df-convert {\n",
              "      background-color: #3B4455;\n",
              "      fill: #D2E3FC;\n",
              "    }\n",
              "\n",
              "    [theme=dark] .colab-df-convert:hover {\n",
              "      background-color: #434B5C;\n",
              "      box-shadow: 0px 1px 3px 1px rgba(0, 0, 0, 0.15);\n",
              "      filter: drop-shadow(0px 1px 2px rgba(0, 0, 0, 0.3));\n",
              "      fill: #FFFFFF;\n",
              "    }\n",
              "  </style>\n",
              "\n",
              "    <script>\n",
              "      const buttonEl =\n",
              "        document.querySelector('#df-3682e311-2d7d-4a1c-ad33-e2666394eecf button.colab-df-convert');\n",
              "      buttonEl.style.display =\n",
              "        google.colab.kernel.accessAllowed ? 'block' : 'none';\n",
              "\n",
              "      async function convertToInteractive(key) {\n",
              "        const element = document.querySelector('#df-3682e311-2d7d-4a1c-ad33-e2666394eecf');\n",
              "        const dataTable =\n",
              "          await google.colab.kernel.invokeFunction('convertToInteractive',\n",
              "                                                    [key], {});\n",
              "        if (!dataTable) return;\n",
              "\n",
              "        const docLinkHtml = 'Like what you see? Visit the ' +\n",
              "          '<a target=\"_blank\" href=https://colab.research.google.com/notebooks/data_table.ipynb>data table notebook</a>'\n",
              "          + ' to learn more about interactive tables.';\n",
              "        element.innerHTML = '';\n",
              "        dataTable['output_type'] = 'display_data';\n",
              "        await google.colab.output.renderOutput(dataTable, element);\n",
              "        const docLink = document.createElement('div');\n",
              "        docLink.innerHTML = docLinkHtml;\n",
              "        element.appendChild(docLink);\n",
              "      }\n",
              "    </script>\n",
              "  </div>\n",
              "\n",
              "\n",
              "<div id=\"df-fcd6135f-8d24-4ab8-93db-a8fdd79e9c01\">\n",
              "  <button class=\"colab-df-quickchart\" onclick=\"quickchart('df-fcd6135f-8d24-4ab8-93db-a8fdd79e9c01')\"\n",
              "            title=\"Suggest charts\"\n",
              "            style=\"display:none;\">\n",
              "\n",
              "<svg xmlns=\"http://www.w3.org/2000/svg\" height=\"24px\"viewBox=\"0 0 24 24\"\n",
              "     width=\"24px\">\n",
              "    <g>\n",
              "        <path d=\"M19 3H5c-1.1 0-2 .9-2 2v14c0 1.1.9 2 2 2h14c1.1 0 2-.9 2-2V5c0-1.1-.9-2-2-2zM9 17H7v-7h2v7zm4 0h-2V7h2v10zm4 0h-2v-4h2v4z\"/>\n",
              "    </g>\n",
              "</svg>\n",
              "  </button>\n",
              "\n",
              "<style>\n",
              "  .colab-df-quickchart {\n",
              "      --bg-color: #E8F0FE;\n",
              "      --fill-color: #1967D2;\n",
              "      --hover-bg-color: #E2EBFA;\n",
              "      --hover-fill-color: #174EA6;\n",
              "      --disabled-fill-color: #AAA;\n",
              "      --disabled-bg-color: #DDD;\n",
              "  }\n",
              "\n",
              "  [theme=dark] .colab-df-quickchart {\n",
              "      --bg-color: #3B4455;\n",
              "      --fill-color: #D2E3FC;\n",
              "      --hover-bg-color: #434B5C;\n",
              "      --hover-fill-color: #FFFFFF;\n",
              "      --disabled-bg-color: #3B4455;\n",
              "      --disabled-fill-color: #666;\n",
              "  }\n",
              "\n",
              "  .colab-df-quickchart {\n",
              "    background-color: var(--bg-color);\n",
              "    border: none;\n",
              "    border-radius: 50%;\n",
              "    cursor: pointer;\n",
              "    display: none;\n",
              "    fill: var(--fill-color);\n",
              "    height: 32px;\n",
              "    padding: 0;\n",
              "    width: 32px;\n",
              "  }\n",
              "\n",
              "  .colab-df-quickchart:hover {\n",
              "    background-color: var(--hover-bg-color);\n",
              "    box-shadow: 0 1px 2px rgba(60, 64, 67, 0.3), 0 1px 3px 1px rgba(60, 64, 67, 0.15);\n",
              "    fill: var(--button-hover-fill-color);\n",
              "  }\n",
              "\n",
              "  .colab-df-quickchart-complete:disabled,\n",
              "  .colab-df-quickchart-complete:disabled:hover {\n",
              "    background-color: var(--disabled-bg-color);\n",
              "    fill: var(--disabled-fill-color);\n",
              "    box-shadow: none;\n",
              "  }\n",
              "\n",
              "  .colab-df-spinner {\n",
              "    border: 2px solid var(--fill-color);\n",
              "    border-color: transparent;\n",
              "    border-bottom-color: var(--fill-color);\n",
              "    animation:\n",
              "      spin 1s steps(1) infinite;\n",
              "  }\n",
              "\n",
              "  @keyframes spin {\n",
              "    0% {\n",
              "      border-color: transparent;\n",
              "      border-bottom-color: var(--fill-color);\n",
              "      border-left-color: var(--fill-color);\n",
              "    }\n",
              "    20% {\n",
              "      border-color: transparent;\n",
              "      border-left-color: var(--fill-color);\n",
              "      border-top-color: var(--fill-color);\n",
              "    }\n",
              "    30% {\n",
              "      border-color: transparent;\n",
              "      border-left-color: var(--fill-color);\n",
              "      border-top-color: var(--fill-color);\n",
              "      border-right-color: var(--fill-color);\n",
              "    }\n",
              "    40% {\n",
              "      border-color: transparent;\n",
              "      border-right-color: var(--fill-color);\n",
              "      border-top-color: var(--fill-color);\n",
              "    }\n",
              "    60% {\n",
              "      border-color: transparent;\n",
              "      border-right-color: var(--fill-color);\n",
              "    }\n",
              "    80% {\n",
              "      border-color: transparent;\n",
              "      border-right-color: var(--fill-color);\n",
              "      border-bottom-color: var(--fill-color);\n",
              "    }\n",
              "    90% {\n",
              "      border-color: transparent;\n",
              "      border-bottom-color: var(--fill-color);\n",
              "    }\n",
              "  }\n",
              "</style>\n",
              "\n",
              "  <script>\n",
              "    async function quickchart(key) {\n",
              "      const quickchartButtonEl =\n",
              "        document.querySelector('#' + key + ' button');\n",
              "      quickchartButtonEl.disabled = true;  // To prevent multiple clicks.\n",
              "      quickchartButtonEl.classList.add('colab-df-spinner');\n",
              "      try {\n",
              "        const charts = await google.colab.kernel.invokeFunction(\n",
              "            'suggestCharts', [key], {});\n",
              "      } catch (error) {\n",
              "        console.error('Error during call to suggestCharts:', error);\n",
              "      }\n",
              "      quickchartButtonEl.classList.remove('colab-df-spinner');\n",
              "      quickchartButtonEl.classList.add('colab-df-quickchart-complete');\n",
              "    }\n",
              "    (() => {\n",
              "      let quickchartButtonEl =\n",
              "        document.querySelector('#df-fcd6135f-8d24-4ab8-93db-a8fdd79e9c01 button');\n",
              "      quickchartButtonEl.style.display =\n",
              "        google.colab.kernel.accessAllowed ? 'block' : 'none';\n",
              "    })();\n",
              "  </script>\n",
              "</div>\n",
              "\n",
              "    </div>\n",
              "  </div>\n"
            ],
            "application/vnd.google.colaboratory.intrinsic+json": {
              "type": "dataframe",
              "variable_name": "data",
              "summary": "{\n  \"name\": \"data\",\n  \"rows\": 4999,\n  \"fields\": [\n    {\n      \"column\": \"Timestamp\",\n      \"properties\": {\n        \"dtype\": \"number\",\n        \"std\": 0.49888703360042413,\n        \"min\": 0.0,\n        \"max\": 1.0,\n        \"num_unique_values\": 2,\n        \"samples\": [\n          1.0,\n          0.0\n        ],\n        \"semantic_type\": \"\",\n        \"description\": \"\"\n      }\n    },\n    {\n      \"column\": \"SenderID\",\n      \"properties\": {\n        \"dtype\": \"number\",\n        \"std\": 6.725725723640038,\n        \"min\": 1.0,\n        \"max\": 24.0,\n        \"num_unique_values\": 24,\n        \"samples\": [\n          23.0,\n          12.0\n        ],\n        \"semantic_type\": \"\",\n        \"description\": \"\"\n      }\n    },\n    {\n      \"column\": \"ReceiverID\",\n      \"properties\": {\n        \"dtype\": \"number\",\n        \"std\": 6.946169611187124,\n        \"min\": 1.0,\n        \"max\": 24.0,\n        \"num_unique_values\": 24,\n        \"samples\": [\n          10.0,\n          18.0\n        ],\n        \"semantic_type\": \"\",\n        \"description\": \"\"\n      }\n    },\n    {\n      \"column\": \"Timestamp_Raw\",\n      \"properties\": {\n        \"dtype\": \"number\",\n        \"std\": 0.3219717810964341,\n        \"min\": 0.135006,\n        \"max\": 1.17001,\n        \"num_unique_values\": 40,\n        \"samples\": [\n          0.935009,\n          0.895009\n        ],\n        \"semantic_type\": \"\",\n        \"description\": \"\"\n      }\n    },\n    {\n      \"column\": \"Pathloss\",\n      \"properties\": {\n        \"dtype\": \"number\",\n        \"std\": 26.075270167491205,\n        \"min\": 50.5,\n        \"max\": 149.1,\n        \"num_unique_values\": 341,\n        \"samples\": [\n          123.7,\n          59.7\n        ],\n        \"semantic_type\": \"\",\n        \"description\": \"\"\n      }\n    },\n    {\n      \"column\": \"PropDelay\",\n      \"properties\": {\n        \"dtype\": \"number\",\n        \"std\": 1.5981207303711893e-06,\n        \"min\": 8.9e-08,\n        \"max\": 6.851e-06,\n        \"num_unique_values\": 704,\n        \"samples\": [\n          7.9e-07,\n          3.441e-06\n        ],\n        \"semantic_type\": \"\",\n        \"description\": \"\"\n      }\n    },\n    {\n      \"column\": \"Distance\",\n      \"properties\": {\n        \"dtype\": \"number\",\n        \"std\": 479.4350343793563,\n        \"min\": 26.68975077244696,\n        \"max\": 2055.161888408755,\n        \"num_unique_values\": 827,\n        \"samples\": [\n          1110.0643451430622,\n          2055.161888408755\n        ],\n        \"semantic_type\": \"\",\n        \"description\": \"\"\n      }\n    },\n    {\n      \"column\": \"Sender_XVelocity\",\n      \"properties\": {\n        \"dtype\": \"number\",\n        \"std\": 4.9076788495493726e-05,\n        \"min\": -0.000101,\n        \"max\": 9.3e-05,\n        \"num_unique_values\": 15,\n        \"samples\": [\n          9.1e-05,\n          -9.9e-05\n        ],\n        \"semantic_type\": \"\",\n        \"description\": \"\"\n      }\n    },\n    {\n      \"column\": \"Sender_YVelocity\",\n      \"properties\": {\n        \"dtype\": \"number\",\n        \"std\": 0.00010244359387934302,\n        \"min\": -0.000196,\n        \"max\": 0.000213,\n        \"num_unique_values\": 13,\n        \"samples\": [\n          -0.0001,\n          0.000123\n        ],\n        \"semantic_type\": \"\",\n        \"description\": \"\"\n      }\n    },\n    {\n      \"column\": \"Receiver_XVelocity\",\n      \"properties\": {\n        \"dtype\": \"number\",\n        \"std\": 5.174626439074316e-05,\n        \"min\": -0.000101,\n        \"max\": 9.5e-05,\n        \"num_unique_values\": 21,\n        \"samples\": [\n          -6e-09,\n          -0.0001\n        ],\n        \"semantic_type\": \"\",\n        \"description\": \"\"\n      }\n    },\n    {\n      \"column\": \"Receiver_YVelocity\",\n      \"properties\": {\n        \"dtype\": \"number\",\n        \"std\": 9.378768683052365e-05,\n        \"min\": -0.000196,\n        \"max\": 0.000213,\n        \"num_unique_values\": 21,\n        \"samples\": [\n          -9e-10,\n          0.000114\n        ],\n        \"semantic_type\": \"\",\n        \"description\": \"\"\n      }\n    }\n  ]\n}"
            }
          },
          "metadata": {},
          "execution_count": 9
        }
      ],
      "source": [
        "import pandas as pd\n",
        "\n",
        "# Load the data\n",
        "file_path = '/content/drive/MyDrive/FYP/raw_data2.csv'\n",
        "\n",
        "data = pd.read_csv(file_path)\n",
        "\n",
        "# Show basic information about the dataset\n",
        "data.info()\n",
        "\n",
        "# Display the first few rows of the dataset\n",
        "data.head()"
      ]
    },
    {
      "cell_type": "code",
      "execution_count": 10,
      "metadata": {
        "colab": {
          "base_uri": "https://localhost:8080/"
        },
        "id": "qtI87s5ycOGz",
        "outputId": "31d60985-bb06-478c-af96-604f0fb5391b"
      },
      "outputs": [
        {
          "output_type": "execute_result",
          "data": {
            "text/plain": [
              "Timestamp             4100\n",
              "SenderID              4100\n",
              "ReceiverID            4100\n",
              "Timestamp_Raw         4100\n",
              "Pathloss              4100\n",
              "PropDelay             4100\n",
              "Distance              4100\n",
              "Sender_XVelocity      4100\n",
              "Sender_YVelocity      4100\n",
              "Receiver_XVelocity    4100\n",
              "Receiver_YVelocity    4100\n",
              "dtype: int64"
            ]
          },
          "metadata": {},
          "execution_count": 10
        }
      ],
      "source": [
        "# Preprocessing Step 1: Checking for missing values\n",
        "\n",
        "# Check for any missing values in the dataset\n",
        "missing_values = data.isnull().sum()\n",
        "\n",
        "missing_values"
      ]
    },
    {
      "cell_type": "code",
      "source": [
        "# Impute missing values with median for numerical columns\n",
        "for column in data.columns:\n",
        "    if data[column].dtype == 'float64':\n",
        "        data[column].fillna(data[column].median(), inplace=True)\n",
        "\n",
        "# Check again for missing values to ensure they've been addressed\n",
        "print(data.isnull().sum())"
      ],
      "metadata": {
        "colab": {
          "base_uri": "https://localhost:8080/"
        },
        "id": "WvuSzsANjoyM",
        "outputId": "f301c86d-39c2-4f7b-ecd1-87ed2527463e"
      },
      "execution_count": 11,
      "outputs": [
        {
          "output_type": "stream",
          "name": "stdout",
          "text": [
            "Timestamp             0\n",
            "SenderID              0\n",
            "ReceiverID            0\n",
            "Timestamp_Raw         0\n",
            "Pathloss              0\n",
            "PropDelay             0\n",
            "Distance              0\n",
            "Sender_XVelocity      0\n",
            "Sender_YVelocity      0\n",
            "Receiver_XVelocity    0\n",
            "Receiver_YVelocity    0\n",
            "dtype: int64\n"
          ]
        }
      ]
    },
    {
      "cell_type": "code",
      "source": [
        "import numpy as np\n",
        "import torch\n",
        "import joblib\n",
        "import torch.nn as nn\n",
        "import torch.nn.functional as F\n",
        "from torch_geometric.nn import GCNConv, global_mean_pool\n",
        "from torch_geometric.data import Data\n",
        "from sklearn.preprocessing import StandardScaler, OneHotEncoder\n",
        "from sklearn.model_selection import train_test_split\n",
        "\n",
        "# Feature Selection\n",
        "selected_data = data[['PropDelay', 'Distance', 'Sender_XVelocity', 'Sender_YVelocity', 'Receiver_XVelocity', 'Receiver_YVelocity']]\n",
        "\n",
        "# Normalization/Scaling\n",
        "# Scale numerical features\n",
        "scaler = StandardScaler()\n",
        "scaled_features = scaler.fit_transform(selected_data.select_dtypes(include=[np.number]))\n",
        "scaled_features_df = pd.DataFrame(scaled_features, columns=selected_data.columns)\n",
        "\n",
        "scaler_filename = \"scaler.save\"\n",
        "joblib.dump(scaler, scaler_filename)\n",
        "\n",
        "print(scaled_features_df.describe().round(2))"
      ],
      "metadata": {
        "colab": {
          "base_uri": "https://localhost:8080/"
        },
        "id": "SFcIGOqBmOAO",
        "outputId": "18dea8dc-617e-4061-e44e-65dfaf1c84d0"
      },
      "execution_count": 40,
      "outputs": [
        {
          "output_type": "stream",
          "name": "stdout",
          "text": [
            "       PropDelay  Distance  Sender_XVelocity  Sender_YVelocity  \\\n",
            "count    4999.00   4999.00           4999.00           4999.00   \n",
            "mean        0.00      0.00             -0.00              0.00   \n",
            "std         1.00      1.00              1.00              1.00   \n",
            "min        -2.64     -2.64             -4.88             -4.41   \n",
            "25%        -0.11     -0.11             -0.06             -0.16   \n",
            "50%        -0.11     -0.11             -0.06             -0.16   \n",
            "75%        -0.11     -0.11             -0.06             -0.16   \n",
            "max         7.07      7.07              4.38              4.46   \n",
            "\n",
            "       Receiver_XVelocity  Receiver_YVelocity  \n",
            "count             4999.00             4999.00  \n",
            "mean                -0.00                0.00  \n",
            "std                  1.00                1.00  \n",
            "min                 -4.63               -4.85  \n",
            "25%                 -0.05               -0.14  \n",
            "50%                 -0.05               -0.14  \n",
            "75%                 -0.05               -0.14  \n",
            "max                  4.26                4.99  \n"
          ]
        }
      ]
    },
    {
      "cell_type": "code",
      "source": [
        "# Encoding Categorical Data\n",
        "encoder = OneHotEncoder()\n",
        "encoded_features = encoder.fit_transform(selected_data.select_dtypes(include=['object', 'category'])).toarray()\n",
        "\n",
        "# Creating a DataFrame from encoded features with column names\n",
        "encoded_features_df = pd.DataFrame(encoded_features, columns=encoder.get_feature_names_out(selected_data.select_dtypes(include=['object', 'category']).columns))\n",
        "\n",
        "# Combining scaled and encoded features\n",
        "# Make sure the indexes align when combining\n",
        "scaled_features_df.reset_index(drop=True, inplace=True)\n",
        "encoded_features_df.reset_index(drop=True, inplace=True)\n",
        "combined_features_df = pd.concat([scaled_features_df, encoded_features_df], axis=1)\n",
        "\n",
        "print(combined_features_df.shape)\n",
        "print(combined_features_df.head())"
      ],
      "metadata": {
        "colab": {
          "base_uri": "https://localhost:8080/"
        },
        "id": "V7apruFEoe8u",
        "outputId": "e4f2223d-c10b-474d-bd01-9d01b14b1393"
      },
      "execution_count": 41,
      "outputs": [
        {
          "output_type": "stream",
          "name": "stdout",
          "text": [
            "(4999, 6)\n",
            "   PropDelay  Distance  Sender_XVelocity  Sender_YVelocity  \\\n",
            "0   0.693501  0.694159           -0.0592         -0.157587   \n",
            "1  -1.225674 -1.225984           -0.0592         -0.157587   \n",
            "2  -2.218301 -2.217942           -0.0592         -0.157587   \n",
            "3  -1.813206 -1.812965           -0.0592         -0.157587   \n",
            "4  -1.479936 -1.480080           -0.0592         -0.157587   \n",
            "\n",
            "   Receiver_XVelocity  Receiver_YVelocity  \n",
            "0           -0.046878           -0.137053  \n",
            "1           -0.046878           -0.137053  \n",
            "2           -0.046878           -0.137053  \n",
            "3           -0.046878           -0.137053  \n",
            "4           -0.046878           -0.137053  \n"
          ]
        }
      ]
    },
    {
      "cell_type": "code",
      "source": [
        "# Convert to PyTorch tensors\n",
        "node_features = torch.tensor(combined_features_df.values, dtype=torch.float)\n",
        "\n",
        "# Extracting unique nodes and mapping them to consecutive integers\n",
        "unique_nodes = np.unique(data[['SenderID', 'ReceiverID']].values.flatten())\n",
        "node_mapping = {node: i for i, node in enumerate(unique_nodes)}\n",
        "\n",
        "# Mapping nodes in the dataset to this new mapping\n",
        "sender_nodes = data['SenderID'].map(node_mapping)\n",
        "receiver_nodes = data['ReceiverID'].map(node_mapping)\n",
        "\n",
        "# Creating edge index\n",
        "edge_index = torch.tensor(np.array([sender_nodes.values, receiver_nodes.values]), dtype=torch.long)\n",
        "target_tensor = torch.tensor(data['PropDelay'], dtype=torch.float)\n",
        "\n",
        "# Create a graph structure\n",
        "graph_data = Data(x=node_features, edge_index=edge_index, y=target_tensor)\n",
        "\n",
        "graph_data.num_nodes, graph_data.num_edges\n",
        "\n",
        "print(f\"Unique nodes: {len(unique_nodes)}\")\n",
        "print(f\"Edge index shape: {edge_index.shape}\")"
      ],
      "metadata": {
        "colab": {
          "base_uri": "https://localhost:8080/"
        },
        "id": "I1qvkhegAwKJ",
        "outputId": "4b70d489-3ea3-412f-b914-b175280d7e90"
      },
      "execution_count": 42,
      "outputs": [
        {
          "output_type": "stream",
          "name": "stdout",
          "text": [
            "Unique nodes: 24\n",
            "Edge index shape: torch.Size([2, 4999])\n"
          ]
        }
      ]
    },
    {
      "cell_type": "code",
      "execution_count": 85,
      "metadata": {
        "id": "jgIQ9rYQcOG0"
      },
      "outputs": [],
      "source": [
        "class GNNModel(torch.nn.Module):\n",
        "    def __init__(self, num_node_features):\n",
        "        super(GNNModel, self).__init__()\n",
        "        self.conv1 = GCNConv(num_node_features, 64)\n",
        "        self.conv2 = GCNConv(64, 64)\n",
        "        self.conv3 = GCNConv(64, 1)\n",
        "        self.dropout = 0.5\n",
        "\n",
        "    def forward(self, data):\n",
        "        x, edge_index = data.x, data.edge_index\n",
        "\n",
        "        x = F.relu(self.conv1(x, edge_index))\n",
        "        x = F.dropout(x, p=self.dropout, training=self.training)\n",
        "        x = F.relu(self.conv2(x, edge_index))\n",
        "        x = F.dropout(x, p=self.dropout, training=self.training)\n",
        "        x = self.conv3(x, edge_index)\n",
        "\n",
        "        return x\n",
        "\n",
        "num_node_features = graph_data.x.shape[1]\n",
        "\n",
        "model = GNNModel(num_node_features)"
      ]
    },
    {
      "cell_type": "code",
      "source": [
        "import torch.optim as optim\n",
        "\n",
        "criterion = nn.CrossEntropyLoss()  # For multi-class classification\n",
        "# loss_func = nn.SmoothL1Loss()\n",
        "loss_func = nn.HuberLoss()\n",
        "optimizer = optim.Adam(model.parameters(), lr=0.0005)"
      ],
      "metadata": {
        "id": "xaIR-9ftgOcs"
      },
      "execution_count": 86,
      "outputs": []
    },
    {
      "cell_type": "code",
      "source": [
        "# train_mask = torch.rand(num_nodes) < 0.8  # Example: 80% of nodes for training\n",
        "# test_mask = ~train_mask  # The remaining nodes for testing\n",
        "\n",
        "# adding a learning rate scheduler\n",
        "scheduler = torch.optim.lr_scheduler.StepLR(optimizer, step_size=50, gamma=0.1)\n",
        "\n",
        "for epoch in range(200):\n",
        "    model.train()\n",
        "    optimizer.zero_grad()  # Clear gradients from the previous step\n",
        "    output = model(graph_data)  # Forward pass\n",
        "    output = torch.squeeze(output)  # Adjust the output shape\n",
        "    loss = loss_func(output, graph_data.y)\n",
        "    # loss = criterion(output[train_mask], graph_data.y[train_mask])  # Only compute loss on training nodes\n",
        "    loss = loss_func(output, graph_data.y)\n",
        "    loss.backward()  # Backpropagation\n",
        "    optimizer.step()  # Update model parameters\n",
        "    scheduler.step()  # Update the learning rate\n",
        "\n",
        "    # Print the loss every 10 epochs\n",
        "    if epoch % 10 == 0:\n",
        "        print(f'Epoch {epoch+10}, Loss: {loss.item():.6f}')"
      ],
      "metadata": {
        "colab": {
          "base_uri": "https://localhost:8080/"
        },
        "id": "_PUSPDtggs15",
        "outputId": "74f1515d-c082-4b23-8f68-16b1bd28a6f4"
      },
      "execution_count": 87,
      "outputs": [
        {
          "output_type": "stream",
          "name": "stdout",
          "text": [
            "Epoch 10, Loss: 0.080895\n",
            "Epoch 20, Loss: 0.056742\n",
            "Epoch 30, Loss: 0.042714\n",
            "Epoch 40, Loss: 0.035134\n",
            "Epoch 50, Loss: 0.032004\n",
            "Epoch 60, Loss: 0.021845\n",
            "Epoch 70, Loss: 0.021929\n",
            "Epoch 80, Loss: 0.020693\n",
            "Epoch 90, Loss: 0.023026\n",
            "Epoch 100, Loss: 0.023682\n",
            "Epoch 110, Loss: 0.020901\n",
            "Epoch 120, Loss: 0.021516\n",
            "Epoch 130, Loss: 0.021263\n",
            "Epoch 140, Loss: 0.023193\n",
            "Epoch 150, Loss: 0.021333\n",
            "Epoch 160, Loss: 0.020964\n",
            "Epoch 170, Loss: 0.022573\n",
            "Epoch 180, Loss: 0.020838\n",
            "Epoch 190, Loss: 0.020473\n",
            "Epoch 200, Loss: 0.020910\n"
          ]
        }
      ]
    },
    {
      "cell_type": "code",
      "source": [
        "from sklearn.metrics import mean_absolute_error, mean_squared_error, r2_score\n",
        "\n",
        "model.eval()  # Set the model to evaluation mode\n",
        "\n",
        "scaler = joblib.load(scaler_filename)\n",
        "\n",
        "prop_delay_index = 0  # Index of PropDelay in the scaled features\n",
        "\n",
        "with torch.no_grad():  # Disable gradient computation for evaluation\n",
        "    predictions = model(graph_data).squeeze()  # Get model predictions\n",
        "    predictions_np = predictions.cpu().numpy()\n",
        "\n",
        "    # Create a dummy array with zeros to match the shape expected by the scaler\n",
        "    dummy_array = np.zeros((len(predictions_np), scaled_features_df.shape[1]))\n",
        "    # Place predictions in the correct column\n",
        "    dummy_array[:, prop_delay_index] = predictions_np\n",
        "\n",
        "    # Inverse transform to original scale\n",
        "    predictions_original_scale = scaler.inverse_transform(dummy_array)[:, prop_delay_index]\n",
        "\n",
        "# Calculate evaluation metrics\n",
        "mae = mean_absolute_error(graph_data.y.cpu().numpy(), predictions_original_scale)\n",
        "mse = mean_squared_error(graph_data.y.cpu().numpy(), predictions_original_scale)\n",
        "rmse = np.sqrt(mse)\n",
        "r2 = r2_score(graph_data.y.cpu().numpy(), predictions_original_scale)\n",
        "\n",
        "# Print the metrics\n",
        "print(f'Mean Absolute Error: {mae:.10f}')\n",
        "print(f'Mean Squared Error: {mse}')\n",
        "print(f'Root Mean Squared Error: {rmse:.10f}')\n",
        "print(f'R-squared: {r2:.4f}')"
      ],
      "metadata": {
        "colab": {
          "base_uri": "https://localhost:8080/"
        },
        "id": "N8Hk5taczPDM",
        "outputId": "16249a14-8076-46d3-fdca-e61d183786d9"
      },
      "execution_count": 91,
      "outputs": [
        {
          "output_type": "stream",
          "name": "stdout",
          "text": [
            "Mean Absolute Error: 0.0000002955\n",
            "Mean Squared Error: 5.0576190441389e-13\n",
            "Root Mean Squared Error: 0.0000007112\n",
            "R-squared: -0.0437\n"
          ]
        }
      ]
    },
    {
      "cell_type": "code",
      "source": [
        "import matplotlib.pyplot as plt\n",
        "\n",
        "actual = graph_data.y.cpu().numpy()\n",
        "predicted = predictions_original_scale\n",
        "\n",
        "plt.figure(figsize=(10, 6))\n",
        "plt.scatter(actual, predicted, alpha=0.5)\n",
        "plt.title('Actual vs. Predicted')\n",
        "plt.xlabel('Actual PropDelay')\n",
        "plt.ylabel('Predicted PropDelay')\n",
        "plt.plot([actual.min(), actual.max()], [actual.min(), actual.max()], 'k--') # Diagonal line\n",
        "plt.show()"
      ],
      "metadata": {
        "colab": {
          "base_uri": "https://localhost:8080/",
          "height": 564
        },
        "id": "n9g9Kap7thOX",
        "outputId": "5d45ef4d-59ba-456b-fdec-0559043d8953"
      },
      "execution_count": 89,
      "outputs": [
        {
          "output_type": "display_data",
          "data": {
            "text/plain": [
              "<Figure size 1000x600 with 1 Axes>"
            ],
            "image/png": "[encoded data removed]"
          },
          "metadata": {}
        }
      ]
    },
    {
      "cell_type": "code",
      "source": [
        "errors = actual - predicted\n",
        "\n",
        "plt.figure(figsize=(10, 6))\n",
        "plt.hist(errors, bins=50, alpha=0.7, color='r')\n",
        "plt.title('Distribution of Prediction Errors')\n",
        "plt.xlabel('Prediction Error')\n",
        "plt.ylabel('Frequency')\n",
        "plt.show()"
      ],
      "metadata": {
        "colab": {
          "base_uri": "https://localhost:8080/",
          "height": 564
        },
        "id": "h080SD2CgUjl",
        "outputId": "827a8608-c150-42a8-c94c-6db0762a4747"
      },
      "execution_count": 90,
      "outputs": [
        {
          "output_type": "display_data",
          "data": {
            "text/plain": [
              "<Figure size 1000x600 with 1 Axes>"
            ],
            "image/png": "[encoded data removed]"
          },
          "metadata": {}
        }
      ]
    },
    {
      "cell_type": "code",
      "source": [
        "# Save the model\n",
        "torch.save(model.state_dict(), '/content/drive/MyDrive/FYP/gnn_model.pth')"
      ],
      "metadata": {
        "id": "ZxJbBAYfzwp-"
      },
      "execution_count": null,
      "outputs": []
    },
    {
      "cell_type": "code",
      "source": [
        "# Create a model instance with the same architecture\n",
        "loaded_model = GNNModel(num_node_features)\n",
        "\n",
        "# Load the saved state dictionary\n",
        "loaded_model.load_state_dict(torch.load('/content/drive/MyDrive/FYP/gnn_model.pth'))\n",
        "\n",
        "# Don't forget to set the model to evaluation mode if you're doing inference\n",
        "loaded_model.eval()"
      ],
      "metadata": {
        "colab": {
          "base_uri": "https://localhost:8080/"
        },
        "id": "V4Hg6sII0PoS",
        "outputId": "03a699a3-1ee8-4cb6-ad9a-1a8e72806ce4"
      },
      "execution_count": null,
      "outputs": [
        {
          "output_type": "execute_result",
          "data": {
            "text/plain": [
              "GNNModel(\n",
              "  (conv1): GCNConv(6, 16)\n",
              "  (conv2): GCNConv(16, 150)\n",
              ")"
            ]
          },
          "metadata": {},
          "execution_count": 34
        }
      ]
    }
  ],
  "metadata": {
    "colab": {
      "provenance": []
    },
    "kernelspec": {
      "display_name": "Python 3 (ipykernel)",
      "language": "python",
      "name": "python3"
    },
    "language_info": {
      "codemirror_mode": {
        "name": "ipython",
        "version": 3
      },
      "file_extension": ".py",
      "mimetype": "text/x-python",
      "name": "python",
      "nbconvert_exporter": "python",
      "pygments_lexer": "ipython3",
      "version": "3.10.9"
    }
  },
  "nbformat": 4,
  "nbformat_minor": 0
}